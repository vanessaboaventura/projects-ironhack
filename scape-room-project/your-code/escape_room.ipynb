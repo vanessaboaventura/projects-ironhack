{
 "cells": [
  {
   "cell_type": "code",
   "execution_count": 0,
   "metadata": {
    "colab": {},
    "colab_type": "code",
    "id": "UoKr8lQXDqW5"
   },
   "outputs": [],
   "source": [
    "import re"
   ]
  },
  {
   "cell_type": "code",
   "execution_count": 0,
   "metadata": {
    "colab": {
     "base_uri": "https://localhost:8080/",
     "height": 51
    },
    "colab_type": "code",
    "id": "gvTe2UCvD_u7",
    "outputId": "8d80f4ad-a648-4af8-e735-1570d51eef34"
   },
   "outputs": [
    {
     "name": "stdout",
     "output_type": "stream",
     "text": [
      "/bin/bash: -c: line 0: syntax error near unexpected token `('\n",
      "/bin/bash: -c: line 0: `[Game Map](escape-room-plan.jpg)'\n"
     ]
    }
   ],
   "source": [
    "![Game Map](escape-room-plan.jpg)"
   ]
  },
  {
   "cell_type": "code",
   "execution_count": 0,
   "metadata": {
    "colab": {},
    "colab_type": "code",
    "id": "R_5ZsY05DrnV"
   },
   "outputs": [],
   "source": [
    "keys = []\n",
    "\n",
    "game_room = ['couch', 'piano', 'door_a']\n",
    "bedroom1 = ['queen_bed', 'door_a', 'door_b', 'door_c']\n",
    "bedroom2 = ['double_bed', 'dresser', 'door_b']\n",
    "living_room = ['dining_table', 'door_c', 'door_d']\n",
    "outside = []\n",
    "\n",
    "locks1 = {'piano':'key_a', 'door_a': 'key_a'}\n",
    "locks2 = {'queen_bed':'key_b', 'door_b': 'key_b', 'door_c': 'key_c', 'door_a': 'key_a'}\n",
    "locks3 = {'double_bed': 'key_c', 'door_c': 'key_c', 'dresser':'key_d', 'door_d': 'key_d', 'door_b': 'key_b'}          \n",
    "locks4 = {'door_c': 'key_c', 'door_d': 'key_d'}\n",
    "locks5 = {}\n",
    "\n",
    "enviroment1 = {'name':'game_room', 'game_room': game_room , 'locks': locks1}\n",
    "enviroment2 = {'name':'bedroom1', 'bedroom1': bedroom1, 'locks': locks2}\n",
    "enviroment3 = {'name':'bedroom2', 'bedroom2': bedroom2, 'locks': locks3}\n",
    "enviroment4 = {'name':'living_room', 'living_room': living_room, 'locks': locks4}\n",
    "enviroment5 = {'name':'outside', 'outside': outside, 'locks': locks5}"
   ]
  },
  {
   "cell_type": "code",
   "execution_count": 0,
   "metadata": {
    "colab": {},
    "colab_type": "code",
    "id": "0Ml1FafUDskp"
   },
   "outputs": [],
   "source": [
    "def get_environment(environment_name, key_name):# Função para definir o ambiente e a mudança do mesmo.\n",
    "    doors = {\n",
    "        'key_a': {\n",
    "            'game_room': 'bedroom1',\n",
    "            'bedroom1': 'game_room'\n",
    "        },\n",
    "        'key_b': {\n",
    "            'bedroom1': 'bedroom2',\n",
    "            'bedroom2': 'bedroom1'\n",
    "        },\n",
    "        'key_c': {\n",
    "            'bedroom1': 'living_room',\n",
    "            'living_room': 'bedroom1'\n",
    "        },\n",
    "        'key_d': {\n",
    "            'outside': 'living_room',\n",
    "            'living_room': 'outside'\n",
    "        }\n",
    "    }\n",
    "    environments = {\n",
    "        'game_room': enviroment1,\n",
    "        'bedroom1': enviroment2,\n",
    "        'bedroom2': enviroment3,\n",
    "        'living_room': enviroment4,\n",
    "        'outside': enviroment5\n",
    "    }\n",
    "    \n",
    "    return environments[doors[key_name][environment_name]]"
   ]
  },
  {
   "cell_type": "code",
   "execution_count": 0,
   "metadata": {
    "colab": {},
    "colab_type": "code",
    "id": "fRNKVUtRDugM"
   },
   "outputs": [],
   "source": [
    "game = {'current_environment':enviroment1, 'keys': keys , 'status': 'couch'}# Mostra o ambiente atual"
   ]
  },
  {
   "cell_type": "code",
   "execution_count": 0,
   "metadata": {
    "colab": {},
    "colab_type": "code",
    "id": "VZyZdrD-Dv0q"
   },
   "outputs": [],
   "source": [
    "def get_furnitures(game):# Função para definir os móveis em cada ambiente.\n",
    "    environment = game['current_environment']\n",
    "    environment_name = environment['name']\n",
    "    furnitures = environment[environment_name]\n",
    "    return furnitures"
   ]
  },
  {
   "cell_type": "code",
   "execution_count": 0,
   "metadata": {
    "colab": {},
    "colab_type": "code",
    "id": "UKc1-4b7DwzS"
   },
   "outputs": [],
   "source": [
    "def get_key(game, furniture): # Função para definir o ambiente e a mudança do mesmo.\n",
    "    environment = game['current_environment']\n",
    "    locks = environment['locks']\n",
    "    if furniture in locks:\n",
    "        return locks[furniture]\n",
    "    else:\n",
    "        return None"
   ]
  },
  {
   "cell_type": "code",
   "execution_count": 0,
   "metadata": {
    "colab": {},
    "colab_type": "code",
    "id": "OWjoXrsADxv0"
   },
   "outputs": [],
   "source": [
    "def set_key(game, furniture):# Função para definir se o móvel tem a chave ou não.\n",
    "    environment = game['current_environment']\n",
    "    key = get_key(game, furniture)\n",
    "    if key not in game['keys'] and key != None:\n",
    "        game['keys']. append(key)\n",
    "    return game\n",
    "    "
   ]
  },
  {
   "cell_type": "code",
   "execution_count": 0,
   "metadata": {
    "colab": {},
    "colab_type": "code",
    "id": "wvxcrKzyDy_U"
   },
   "outputs": [],
   "source": [
    "def open_door(game, door_name, keys):# Função para abrir a porta.\n",
    "    environment = game['current_environment']\n",
    "    key = environment['locks'][door_name]\n",
    "    return key in keys"
   ]
  },
  {
   "cell_type": "code",
   "execution_count": 0,
   "metadata": {
    "colab": {},
    "colab_type": "code",
    "id": "7Zu4jZusDz8E"
   },
   "outputs": [],
   "source": [
    "def game_start(): # Função para introduzir o jogo.\n",
    "    instructions = '''\n",
    "    You wake up on a game room and find yourself in a strange house with\n",
    "    no windows which you have never been to before.\n",
    "    You don't remember why you are here and what had happened before. \n",
    "    You feel some unknown danger is approaching and you must get out of the house, NOW!\n",
    "    '''\n",
    "    print(instructions)"
   ]
  },
  {
   "cell_type": "code",
   "execution_count": 0,
   "metadata": {
    "colab": {},
    "colab_type": "code",
    "id": "cE6-Ky8gD0_U"
   },
   "outputs": [],
   "source": [
    "def examine_furniture(game):# Função para definir se o jogador quer examinar o móvel.\n",
    "    furniture = game['status']\n",
    "    explore_forniture = get_key(game, furniture)\n",
    "    if explore_forniture:\n",
    "        game = set_key(game, furniture)\n",
    "        print('The key was found in {} - keys: {}'.format(furniture, game['keys']))\n",
    "    else:\n",
    "        print('The key was not found in {} - keys: {}'.format(furniture, game['keys']))\n",
    "        \n",
    "    return game"
   ]
  },
  {
   "cell_type": "code",
   "execution_count": 0,
   "metadata": {
    "colab": {},
    "colab_type": "code",
    "id": "07bDwF2kD148"
   },
   "outputs": [],
   "source": [
    "def is_a_door(furniture): # Função para definir se porta é porta.\n",
    "    doors = re.findall('door_', furniture)\n",
    "    return len(doors) > 0"
   ]
  },
  {
   "cell_type": "code",
   "execution_count": 0,
   "metadata": {
    "colab": {},
    "colab_type": "code",
    "id": "KuwSXqDCD2xb"
   },
   "outputs": [],
   "source": [
    "def go_to_furniture(game):# Função para definir a escolha do jogador, para qual móvel ele quer ir.\n",
    "    environment_name = game['current_environment']['name']\n",
    "    furnitures = game['current_environment'][environment_name]\n",
    "\n",
    "    options = \"\\n\".join(['[{}] - {}'.format(i, furnitures[i]) for i in range(len(furnitures))])\n",
    "\n",
    "    instructions = '''\n",
    "    Your options are:\n",
    "    {}\n",
    "    Which furniture do you wanna go?\n",
    "    '''.format(options)\n",
    "\n",
    "    choice = int(input(instructions))\n",
    "    selected_furniture = furnitures[choice]\n",
    "    game['status'] = selected_furniture\n",
    "    \n",
    "    if is_a_door(selected_furniture):\n",
    "        environment = game['current_environment']\n",
    "        locks = environment['locks']\n",
    "        keys = game['keys']\n",
    "        key = locks[selected_furniture]\n",
    "        if key in keys:\n",
    "            game['current_environment'] = get_environment(environment_name, key)\n",
    "    return game"
   ]
  },
  {
   "cell_type": "code",
   "execution_count": 0,
   "metadata": {
    "colab": {},
    "colab_type": "code",
    "id": "cunkw8xDD3tF"
   },
   "outputs": [],
   "source": [
    "def game_options():# Função para definir a escolha do jogador, se examina, muda de móvel ou sai do jogo.\n",
    "    options = '''\n",
    "    Your options are:\n",
    "    [0] Examine current object.\n",
    "    [1] Go to another object.\n",
    "    [2] Exit Game\n",
    "    '''\n",
    "    return options"
   ]
  },
  {
   "cell_type": "code",
   "execution_count": 0,
   "metadata": {
    "colab": {},
    "colab_type": "code",
    "id": "5qT9OrpRD4n-"
   },
   "outputs": [],
   "source": [
    " def main(game):# Função para definir o jogo.\n",
    "    game_start()\n",
    "    \n",
    "    while game['current_environment']['name'] != enviroment5['name']:\n",
    "        print('-=' * 46)\n",
    "        environment_name = game['current_environment']['name']\n",
    "        print(\"You're in the environment: {} - furniture: {}\".format(environment_name, game['status']))\n",
    "        print('This room has the following furniture: {}.'.format(game['current_environment'][environment_name]))\n",
    "        print('-=' * 46)\n",
    "        options = game_options()\n",
    "        choice = int(input(options))\n",
    "        if choice == 0:\n",
    "            game = examine_furniture(game)\n",
    "        elif choice == 1:\n",
    "            game = go_to_furniture(game)\n",
    "        elif choice == 2:\n",
    "            break\n",
    "        \n",
    "    you_won = game['current_environment']['name'] == enviroment5['name']\n",
    "    if(you_won):\n",
    "        print('You win!')\n",
    "    else:\n",
    "        print(print('Game over!'))\n"
   ]
  },
  {
   "cell_type": "code",
   "execution_count": 0,
   "metadata": {
    "colab": {
     "base_uri": "https://localhost:8080/",
     "height": 700
    },
    "colab_type": "code",
    "id": "yR4obUrsD5lV",
    "outputId": "1f3e070d-9c69-4b4b-d40c-79c88de3d8f6"
   },
   "outputs": [
    {
     "name": "stdout",
     "output_type": "stream",
     "text": [
      "\n",
      "    You wake up on a game room and find yourself in a strange house with\n",
      "    no windows which you have never been to before.\n",
      "    You don't remember why you are here and what had happened before. \n",
      "    You feel some unknown danger is approaching and you must get out of the house, NOW!\n",
      "    \n",
      "-=-=-=-=-=-=-=-=-=-=-=-=-=-=-=-=-=-=-=-=-=-=-=-=-=-=-=-=-=-=-=-=-=-=-=-=-=-=-=-=-=-=-=-=-=-=\n",
      "You're in the environment: game_room - furniture: couch\n",
      "This room has the following furniture: ['couch', 'piano', 'door_a'].\n",
      "-=-=-=-=-=-=-=-=-=-=-=-=-=-=-=-=-=-=-=-=-=-=-=-=-=-=-=-=-=-=-=-=-=-=-=-=-=-=-=-=-=-=-=-=-=-=\n",
      "\n",
      "    Your options are:\n",
      "    [0] Examine current object.\n",
      "    [1] Go to another object.\n",
      "    [2] Exit Game\n",
      "    0\n",
      "The key was not found in couch - keys: []\n",
      "-=-=-=-=-=-=-=-=-=-=-=-=-=-=-=-=-=-=-=-=-=-=-=-=-=-=-=-=-=-=-=-=-=-=-=-=-=-=-=-=-=-=-=-=-=-=\n",
      "You're in the environment: game_room - furniture: couch\n",
      "This room has the following furniture: ['couch', 'piano', 'door_a'].\n",
      "-=-=-=-=-=-=-=-=-=-=-=-=-=-=-=-=-=-=-=-=-=-=-=-=-=-=-=-=-=-=-=-=-=-=-=-=-=-=-=-=-=-=-=-=-=-=\n",
      "\n",
      "    Your options are:\n",
      "    [0] Examine current object.\n",
      "    [1] Go to another object.\n",
      "    [2] Exit Game\n",
      "    3\n",
      "-=-=-=-=-=-=-=-=-=-=-=-=-=-=-=-=-=-=-=-=-=-=-=-=-=-=-=-=-=-=-=-=-=-=-=-=-=-=-=-=-=-=-=-=-=-=\n",
      "You're in the environment: game_room - furniture: couch\n",
      "This room has the following furniture: ['couch', 'piano', 'door_a'].\n",
      "-=-=-=-=-=-=-=-=-=-=-=-=-=-=-=-=-=-=-=-=-=-=-=-=-=-=-=-=-=-=-=-=-=-=-=-=-=-=-=-=-=-=-=-=-=-=\n",
      "\n",
      "    Your options are:\n",
      "    [0] Examine current object.\n",
      "    [1] Go to another object.\n",
      "    [2] Exit Game\n",
      "    2\n",
      "Game over!\n",
      "None\n"
     ]
    }
   ],
   "source": [
    "main(game)"
   ]
  },
  {
   "cell_type": "code",
   "execution_count": 0,
   "metadata": {
    "colab": {},
    "colab_type": "code",
    "id": "wa1Pz_OAD6qO"
   },
   "outputs": [],
   "source": []
  }
 ],
 "metadata": {
  "colab": {
   "name": "escape-room.ipynb",
   "provenance": [],
   "version": "0.3.2"
  },
  "kernelspec": {
   "display_name": "Python 3",
   "language": "python",
   "name": "python3"
  },
  "language_info": {
   "codemirror_mode": {
    "name": "ipython",
    "version": 3
   },
   "file_extension": ".py",
   "mimetype": "text/x-python",
   "name": "python",
   "nbconvert_exporter": "python",
   "pygments_lexer": "ipython3",
   "version": "3.7.3"
  }
 },
 "nbformat": 4,
 "nbformat_minor": 1
}
