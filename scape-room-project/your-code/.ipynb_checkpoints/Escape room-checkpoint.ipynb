{
 "cells": [
  {
   "cell_type": "code",
   "execution_count": null,
   "metadata": {},
   "outputs": [],
   "source": []
  },
  {
   "cell_type": "code",
   "execution_count": 2,
   "metadata": {},
   "outputs": [
    {
     "name": "stdout",
     "output_type": "stream",
     "text": [
      "\n",
      "Você acorda em uma sala de jogos que nunca viu na vida.\n",
      "Esse quarto não possui janelas, apenas uma porta.\n",
      "Você precisa encontrar uma chave  para abri a porta.\n",
      "A chave pode esta no sofá, no piano ou na porta.\n",
      "\n",
      "Qual a sua opção de escolha:\n",
      "   [0] Sofá,\n",
      "   [1] Piano,\n",
      "   [2] Porta_a\n",
      "Onde você quer procurar a chave?3\n",
      "==================================================\n"
     ]
    },
    {
     "ename": "IndexError",
     "evalue": "list index out of range",
     "output_type": "error",
     "traceback": [
      "\u001b[0;31m---------------------------------------------------------------------------\u001b[0m",
      "\u001b[0;31mIndexError\u001b[0m                                Traceback (most recent call last)",
      "\u001b[0;32m<ipython-input-2-ead419e24e0d>\u001b[0m in \u001b[0;36m<module>\u001b[0;34m\u001b[0m\n\u001b[1;32m     40\u001b[0m \u001b[0mescolha\u001b[0m \u001b[0;34m=\u001b[0m \u001b[0mint\u001b[0m\u001b[0;34m(\u001b[0m\u001b[0minput\u001b[0m\u001b[0;34m(\u001b[0m\u001b[0;34m'Onde você quer procurar a chave?'\u001b[0m\u001b[0;34m)\u001b[0m\u001b[0;34m)\u001b[0m\u001b[0;34m\u001b[0m\u001b[0;34m\u001b[0m\u001b[0m\n\u001b[1;32m     41\u001b[0m \u001b[0mprint\u001b[0m\u001b[0;34m(\u001b[0m\u001b[0;34m'='\u001b[0m \u001b[0;34m*\u001b[0m\u001b[0;36m50\u001b[0m\u001b[0;34m)\u001b[0m\u001b[0;34m\u001b[0m\u001b[0;34m\u001b[0m\u001b[0m\n\u001b[0;32m---> 42\u001b[0;31m \u001b[0mprint\u001b[0m\u001b[0;34m(\u001b[0m\u001b[0;34m'Sua escolha foi {}:'\u001b[0m\u001b[0;34m.\u001b[0m\u001b[0mformat\u001b[0m\u001b[0;34m(\u001b[0m\u001b[0moptions\u001b[0m\u001b[0;34m[\u001b[0m\u001b[0mescolha\u001b[0m\u001b[0;34m]\u001b[0m\u001b[0;34m)\u001b[0m\u001b[0;34m)\u001b[0m\u001b[0;34m\u001b[0m\u001b[0;34m\u001b[0m\u001b[0m\n\u001b[0m\u001b[1;32m     43\u001b[0m \u001b[0mprint\u001b[0m\u001b[0;34m(\u001b[0m\u001b[0;34m'='\u001b[0m \u001b[0;34m*\u001b[0m\u001b[0;36m50\u001b[0m\u001b[0;34m)\u001b[0m\u001b[0;34m\u001b[0m\u001b[0;34m\u001b[0m\u001b[0m\n\u001b[1;32m     44\u001b[0m \u001b[0;34m\u001b[0m\u001b[0m\n",
      "\u001b[0;31mIndexError\u001b[0m: list index out of range"
     ]
    }
   ],
   "source": [
    "\n",
    "\n",
    "\n",
    "todas_salas = [sala_jogos, sala_estar]\n",
    "todos_quartos = [quarto_1, quarto_2]\n",
    "todas_portas = [portas_a, portas_b, portas_c, portas_d]\n",
    "\n",
    "objetos_relacionados_sala_jogos = {\n",
    "    \"piano\": [chave_a],\n",
    "    \"saida\": [porta_a],\n",
    "    \"porta a\": [sala_jogos, saida]\n",
    "}\n",
    "\n",
    "objetos_relacionados_quarto1 = {\n",
    "    \"quarto1\": [cama, porta_b, porta_c],\n",
    "    \"cama\": [chave_b],\n",
    "    \"saida\": [porta_b, porta_c],\n",
    "    \"porta b\": [quarto_1, saida]\n",
    "}\n",
    "\n",
    "objetos_relacionados_quarto2 = {\n",
    "    \"quarto2\": [sofa, piano, porta_a],\n",
    "    \"cama\": [chave_c, chave_d],\n",
    "    \"saida\": [porta_b],\n",
    "    \"porta b\": [quarto_2, saida]\n",
    "}\n",
    "\n",
    "objetos_relacionados_sala_estar = {\n",
    "    \"sala estar\": [mesa, porta_d],\n",
    "    \"saida\": [porta_d],\n",
    "    \"porta d\": [saida]\n",
    "}\n",
    "inicio_estado_jogo = {\n",
    "    \"sala_atual\": sala_jogos,\n",
    "    \"chave_coletada\": [],\n",
    "    \"sala_alvo\": saida\n",
    "}\n",
    "\n",
    "    "
   ]
  },
  {
   "cell_type": "code",
   "execution_count": null,
   "metadata": {},
   "outputs": [
    {
     "name": "stdout",
     "output_type": "stream",
     "text": [
      "\n",
      "Você acorda em uma sala de jogos que nunca viu na vida.\n",
      "Esse quarto não possui janelas, apenas uma porta.\n",
      "Você precisa encontrar uma chave  para abri a porta.\n",
      "A chave pode esta no sofá, no piano ou na porta.\n",
      "\n",
      "Qual a sua opção de escolha:   \n",
      "   [0] Sofá,\n",
      "   [1] Piano,\n",
      "   [2] Porta_a\n"
     ]
    }
   ],
   "source": [
    "options = ['sofa','piano','porta_a']\n",
    "print('''\n",
    "Você acorda em uma sala de jogos que nunca viu na vida.\n",
    "Esse quarto não possui janelas, apenas uma porta.\n",
    "Você precisa encontrar uma chave  para abri a porta.\n",
    "A chave pode esta no sofá, no piano ou na porta.\n",
    "''')\n",
    "print('''Qual a sua opção de escolha:   \n",
    "   [0] Sofá,\n",
    "   [1] Piano,\n",
    "   [2] Porta_a''')\n",
    "escolha = int(input('Onde você quer procurar a chave?'))\n",
    "print('=' *50)\n",
    "print('Sua escolha foi {}:'.format(options[escolha]))\n",
    "print('=' *50)\n",
    "\n",
    "if escolha == 0:\n",
    "    print('Parece que a chave não esta no sofá, escolha outra opção!')\n",
    "elif escolha == 1:\n",
    "    print('Você encontrou a chave, abra a Porta_a!')\n",
    "elif escolha == 2:\n",
    "    print ('Parece que a chave não esta na Porta, escolha outra opção!')\n",
    "else:\n",
    "    print('Escolha invalida!')"
   ]
  },
  {
   "cell_type": "code",
   "execution_count": null,
   "metadata": {},
   "outputs": [],
   "source": []
  }
 ],
 "metadata": {
  "kernelspec": {
   "display_name": "Python 3",
   "language": "python",
   "name": "python3"
  },
  "language_info": {
   "codemirror_mode": {
    "name": "ipython",
    "version": 3
   },
   "file_extension": ".py",
   "mimetype": "text/x-python",
   "name": "python",
   "nbconvert_exporter": "python",
   "pygments_lexer": "ipython3",
   "version": "3.7.3"
  }
 },
 "nbformat": 4,
 "nbformat_minor": 2
}
