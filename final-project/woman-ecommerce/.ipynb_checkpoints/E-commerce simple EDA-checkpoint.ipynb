{
 "cells": [
  {
   "cell_type": "code",
   "execution_count": null,
   "metadata": {
    "_cell_guid": "b1076dfc-b9ad-4769-8c92-a6c4dae69d19",
    "_uuid": "8f2839f25d086af736a60e9eeb907d3b93b6e0e5"
   },
   "outputs": [],
   "source": [
    "#reading Required packages\n",
    "import pandas as pd\n",
    "import numpy as np\n",
    "import seaborn as sns\n",
    "import matplotlib.pyplot as plt\n",
    "from wordcloud import *\n",
    "import wordcloud\n",
    "import os"
   ]
  },
  {
   "cell_type": "code",
   "execution_count": null,
   "metadata": {
    "_cell_guid": "79c7e3d0-c299-4dcb-8224-4455121ee9b0",
    "_uuid": "d629ff2d2480ee46fbb7e2d37f6b5fab8052498a"
   },
   "outputs": [],
   "source": [
    "#reading data\n",
    "data = pd.read_csv('Womens Clothing E-Commerce Reviews.csv')"
   ]
  },
  {
   "cell_type": "code",
   "execution_count": null,
   "metadata": {
    "_uuid": "704602eada0b7b8d0555214fc6dae4b4c3a63922",
    "scrolled": true
   },
   "outputs": [],
   "source": [
    "data.head(10)"
   ]
  },
  {
   "cell_type": "code",
   "execution_count": null,
   "metadata": {
    "_uuid": "9706fba6fc41c3ec3a24f501270208778b9632f5"
   },
   "outputs": [],
   "source": [
    "#dropping the unused colm.\n",
    "data=data.drop(['Unnamed: 0'],axis=1)"
   ]
  },
  {
   "cell_type": "code",
   "execution_count": null,
   "metadata": {
    "_uuid": "6bddf06e288914efd572b584862b7f38cd1c7cd2"
   },
   "outputs": [],
   "source": [
    "print('No of columns:',data.shape[0])\n",
    "print('No of rows:',data.shape[1])"
   ]
  },
  {
   "cell_type": "code",
   "execution_count": null,
   "metadata": {
    "_uuid": "988cf55204ebfd97d247fbbfe83cebf10f7a5e66"
   },
   "outputs": [],
   "source": [
    "data.dtypes"
   ]
  },
  {
   "cell_type": "code",
   "execution_count": null,
   "metadata": {
    "_uuid": "8b7c84453498516289814e983397777964f8955e"
   },
   "outputs": [],
   "source": [
    "#check for missing values\n",
    "data.isnull().values.any()"
   ]
  },
  {
   "cell_type": "code",
   "execution_count": null,
   "metadata": {
    "_uuid": "0c643a3334378f0137fce7312f5e3b2682f2c5f9",
    "scrolled": true
   },
   "outputs": [],
   "source": [
    "#finding the missing value count and percentage of all columns.\n",
    "mss=data.isnull().sum()\n",
    "columns = data.columns\n",
    "percent_missing = data.isnull().sum() * 100 / len(data)\n",
    "missing_value_data = pd.DataFrame({'missing_cnt':mss,\n",
    "                                 'percent_missing': percent_missing})\n",
    "missing_value_data"
   ]
  },
  {
   "cell_type": "code",
   "execution_count": null,
   "metadata": {
    "_uuid": "35cdcb668aec1e5ceb3469063cfc142adf10bbd6"
   },
   "outputs": [],
   "source": [
    "#since the missing value percentage is less in variables, we are replacing it with mean and mode.\n",
    "for column in data.columns:\n",
    "    data[column].fillna(data[column].mode()[0], inplace=True)"
   ]
  },
  {
   "cell_type": "code",
   "execution_count": null,
   "metadata": {
    "_uuid": "c90d2e4822681582b020765996318c1db6fb7383"
   },
   "outputs": [],
   "source": [
    "data.isnull().values.any()"
   ]
  },
  {
   "cell_type": "code",
   "execution_count": null,
   "metadata": {
    "_uuid": "6edc6a0778fd586f014a1e509a4a10a9f655e036"
   },
   "outputs": [],
   "source": [
    "#binning the Age\n",
    "data['AGE'] = pd.cut(data['Age'], [0,10,20,30,40,50,60], labels=['0-10','11-20','21-30','31-40','41-50','Abv 50'])"
   ]
  },
  {
   "cell_type": "code",
   "execution_count": null,
   "metadata": {
    "_uuid": "397f9541658a1040b474bc091a9c3ec5ac37c6a1"
   },
   "outputs": [],
   "source": [
    "#plot for age group.\n",
    "sns.countplot(x ='AGE', data = data)"
   ]
  },
  {
   "cell_type": "code",
   "execution_count": null,
   "metadata": {
    "_uuid": "9ffd4b175abdab4d887e09fbaf0fc44aaa65d0ec"
   },
   "outputs": [],
   "source": [
    "#plot for rating\n",
    "sns.countplot(x = 'Rating', data = data)"
   ]
  },
  {
   "cell_type": "code",
   "execution_count": null,
   "metadata": {
    "_uuid": "d26ee3ff5c7c4b54144647db48bfad82842f69b7",
    "scrolled": true
   },
   "outputs": [],
   "source": [
    "#plot for division categories\n",
    "sns.countplot(x = 'Division Name', data = data)"
   ]
  },
  {
   "cell_type": "code",
   "execution_count": null,
   "metadata": {
    "_uuid": "a85303fe284975784806e5043b68dced95fde376"
   },
   "outputs": [],
   "source": [
    "#plot for department categories\n",
    "sns.countplot(x = 'Department Name', data = data)"
   ]
  },
  {
   "cell_type": "code",
   "execution_count": null,
   "metadata": {
    "_uuid": "8af8fd2c47362f2cace8826f62a7585c9bd30879"
   },
   "outputs": [],
   "source": [
    "#plot for age vs division\n",
    "A=data.groupby(['AGE','Division Name'])['AGE'].count().unstack('Division Name')\n",
    "A.plot(kind='bar', stacked=True)"
   ]
  },
  {
   "cell_type": "code",
   "execution_count": null,
   "metadata": {
    "_uuid": "7f27010c7ce9739ccb664d0dfc793d341119a4fa",
    "scrolled": true
   },
   "outputs": [],
   "source": [
    "#plot for division n department\n",
    "B= data.groupby(['Division Name', 'Department Name'])['Division Name'].count().unstack('Department Name')\n",
    "B.plot(kind='bar', stacked=True)"
   ]
  },
  {
   "cell_type": "code",
   "execution_count": null,
   "metadata": {
    "_uuid": "dec5dbb81031f0fdf195bcd974306cea5093d125"
   },
   "outputs": [],
   "source": [
    "#boxplot for rating on various departments\n",
    "sns.boxplot(x=\"Department Name\", y=\"Rating\", data=data,whis=\"range\", palette=\"vlag\")"
   ]
  },
  {
   "cell_type": "code",
   "execution_count": null,
   "metadata": {
    "_uuid": "1fdc782fc966e7e07d1751e4d3bb4a17a9d7fd66"
   },
   "outputs": [],
   "source": [
    "# wordcloud for Title\n",
    "A=data['Title'].str.cat(sep=' ')\n",
    "# Create the wordcloud object\n",
    "wordcloud = WordCloud(width=800, height=480, margin=0).generate(A)\n",
    " \n",
    "# Display the generated image:\n",
    "plt.imshow(wordcloud, interpolation='bilinear')\n",
    "plt.axis(\"off\")\n",
    "plt.margins(x=0, y=0)\n",
    "plt.show()"
   ]
  },
  {
   "cell_type": "code",
   "execution_count": null,
   "metadata": {
    "_uuid": "0f345fe9dc3a90b116f04cf54550cd351a9e200c"
   },
   "outputs": [],
   "source": [
    "# wordcloud for Review Text\n",
    "A1=data['Review Text'].str.cat(sep=' ')\n",
    "# Create the wordcloud object\n",
    "wordcloud = WordCloud(width=800, height=480, margin=0).generate(A1)\n",
    " \n",
    "# Display the generated image:\n",
    "plt.imshow(wordcloud, interpolation='bilinear')\n",
    "plt.axis(\"off\")\n",
    "plt.margins(x=0, y=0)\n",
    "plt.show()"
   ]
  },
  {
   "cell_type": "markdown",
   "metadata": {
    "_uuid": "9c5bbd61e2e1db249ae200f48a8d7cc3b7d97d59"
   },
   "source": [
    "Thank You........"
   ]
  }
 ],
 "metadata": {
  "kernelspec": {
   "display_name": "Python 3",
   "language": "python",
   "name": "python3"
  },
  "language_info": {
   "codemirror_mode": {
    "name": "ipython",
    "version": 3
   },
   "file_extension": ".py",
   "mimetype": "text/x-python",
   "name": "python",
   "nbconvert_exporter": "python",
   "pygments_lexer": "ipython3",
   "version": "3.7.4"
  }
 },
 "nbformat": 4,
 "nbformat_minor": 1
}
